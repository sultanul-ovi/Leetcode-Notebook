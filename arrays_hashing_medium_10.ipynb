{
 "cells": [
  {
   "cell_type": "markdown",
   "metadata": {},
   "source": [
    "## [49. Group Anagrams](https://leetcode.com/problems/group-anagrams/description/)"
   ]
  },
  {
   "cell_type": "markdown",
   "metadata": {},
   "source": []
  },
  {
   "cell_type": "code",
   "execution_count": null,
   "metadata": {},
   "outputs": [],
   "source": []
  },
  {
   "cell_type": "markdown",
   "metadata": {},
   "source": [
    "## [347. Top K Frequent Elements](https://leetcode.com/problems/top-k-frequent-elements/description/)"
   ]
  },
  {
   "cell_type": "markdown",
   "metadata": {},
   "source": []
  },
  {
   "cell_type": "code",
   "execution_count": null,
   "metadata": {},
   "outputs": [],
   "source": []
  },
  {
   "cell_type": "markdown",
   "metadata": {},
   "source": [
    "## [238. Product of Array Except Self](https://leetcode.com/problems/product-of-array-except-self/description/)"
   ]
  },
  {
   "cell_type": "markdown",
   "metadata": {},
   "source": []
  },
  {
   "cell_type": "code",
   "execution_count": null,
   "metadata": {},
   "outputs": [],
   "source": []
  },
  {
   "cell_type": "markdown",
   "metadata": {},
   "source": [
    "## [36. Valid Sudoku](https://leetcode.com/problems/valid-sudoku/description/)"
   ]
  },
  {
   "cell_type": "markdown",
   "metadata": {},
   "source": []
  },
  {
   "cell_type": "code",
   "execution_count": null,
   "metadata": {},
   "outputs": [],
   "source": []
  },
  {
   "cell_type": "markdown",
   "metadata": {},
   "source": [
    "## [128. Longest Consecutive Sequence](https://leetcode.com/problems/longest-consecutive-sequence/description/)"
   ]
  },
  {
   "cell_type": "markdown",
   "metadata": {},
   "source": []
  },
  {
   "cell_type": "code",
   "execution_count": null,
   "metadata": {},
   "outputs": [],
   "source": []
  },
  {
   "cell_type": "markdown",
   "metadata": {},
   "source": [
    "## [1817. Finding the Users Active Minutes](https://leetcode.com/problems/finding-the-users-active-minutes/description/)"
   ]
  },
  {
   "cell_type": "markdown",
   "metadata": {},
   "source": []
  },
  {
   "cell_type": "code",
   "execution_count": null,
   "metadata": {},
   "outputs": [],
   "source": []
  },
  {
   "cell_type": "markdown",
   "metadata": {},
   "source": [
    "## [442. Find All Duplicates in an Array](https://leetcode.com/problems/find-all-duplicates-in-an-array/description/)"
   ]
  },
  {
   "cell_type": "markdown",
   "metadata": {},
   "source": [
    "### Difficulty: Medium\n",
    "\n",
    "### Topics: Array, Hash Table\n",
    "\n",
    "### Summary:\n",
    "Given an array `nums` of length `n` where each integer appears either once or twice, the task is to return an array of integers that appear twice. The solution must run in **O(n)** time and use **constant auxiliary space** (excluding the space used to store the output).\n",
    "\n",
    "### Example Input/Output:\n",
    "- **Input:** `nums = [4,3,2,7,8,2,3,1]`\n",
    "- **Output:** `[2,3]`\n",
    "- **Explanation:** The numbers 2 and 3 appear twice in the array.\n",
    "\n",
    "### Concepts Learned:\n",
    "- **Index Marking for In-Place Modification**: Instead of using extra space, we used the array itself to mark visited numbers by negating the values at their corresponding indices. If a value was already negative, it meant the number was a duplicate.\n",
    "- **In-Place Modification**: No extra space was used other than the output array, adhering to the problem's space constraint.\n",
    "- **Time Complexity**: O(n) for traversing the array once and marking duplicates.\n",
    "- **Space Complexity**: O(1) auxiliary space since we modify the array in place.\n",
    "\n",
    "---"
   ]
  },
  {
   "cell_type": "code",
   "execution_count": null,
   "metadata": {},
   "outputs": [],
   "source": [
    "# Written by Ovi, 2024-10-04\n",
    "# Optimal solution for finding all duplicates in O(n) time with constant space\n",
    "\n",
    "class Solution:\n",
    "    def findDuplicates(self, nums: List[int]) -> List[int]:\n",
    "        result = []\n",
    "        \n",
    "        for i in range(len(nums)):\n",
    "            index = abs(nums[i]) - 1  # Find the index corresponding to the value nums[i]\n",
    "            \n",
    "            # If the number at index is already negative, it means we've seen it before\n",
    "            if nums[index] < 0:\n",
    "                result.append(index + 1)  # Add the duplicate number to the result list\n",
    "            else:\n",
    "                nums[index] = -nums[index]  # Mark the number by negating the value at its index\n",
    "        \n",
    "        return result  # Return the list of duplicates\n"
   ]
  },
  {
   "cell_type": "markdown",
   "metadata": {},
   "source": [
    "## [2442. Count Number of Distinct Integers After Reverse Operations](https://leetcode.com/problems/count-number-of-distinct-integers-after-reverse-operations/description/)"
   ]
  },
  {
   "cell_type": "markdown",
   "metadata": {},
   "source": []
  },
  {
   "cell_type": "code",
   "execution_count": null,
   "metadata": {},
   "outputs": [],
   "source": []
  },
  {
   "cell_type": "markdown",
   "metadata": {},
   "source": [
    "## [890. Find and Replace Pattern](https://leetcode.com/problems/find-and-replace-pattern/description/)"
   ]
  },
  {
   "cell_type": "markdown",
   "metadata": {},
   "source": []
  },
  {
   "cell_type": "code",
   "execution_count": null,
   "metadata": {},
   "outputs": [],
   "source": []
  },
  {
   "cell_type": "markdown",
   "metadata": {},
   "source": [
    "## [2610. Convert an Array Into a 2D Array With Conditions](https://leetcode.com/problems/convert-an-array-into-a-2d-array-with-conditions/description/)"
   ]
  },
  {
   "cell_type": "markdown",
   "metadata": {},
   "source": []
  },
  {
   "cell_type": "code",
   "execution_count": null,
   "metadata": {},
   "outputs": [],
   "source": []
  }
 ],
 "metadata": {
  "language_info": {
   "name": "python"
  }
 },
 "nbformat": 4,
 "nbformat_minor": 2
}
