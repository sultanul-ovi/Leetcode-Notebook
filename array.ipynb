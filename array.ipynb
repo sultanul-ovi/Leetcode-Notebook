{
 "cells": [
  {
   "cell_type": "markdown",
   "metadata": {},
   "source": [
    "## [1512. Number of Good Pairs](https://leetcode.com/problems/number-of-good-pairs/description/)"
   ]
  },
  {
   "cell_type": "markdown",
   "metadata": {},
   "source": [
    "### Difficulty: Easy\n",
    "\n",
    "### Topics: Array, Hash Table, Math, Counting\n",
    "\n",
    "### Summary:\n",
    "The task is to count how many pairs of indices `(i, j)` in the array `nums` satisfy the conditions that `nums[i] == nums[j]` and `i < j`. A pair is called \"good\" if both conditions are met.\n",
    "\n",
    "### Example Input/Output:\n",
    "- **Input:** `nums = [1,2,3,1,1,3]`\n",
    "- **Output:** `4`\n",
    "- **Explanation:** There are 4 good pairs: `(0,3)`, `(0,4)`, `(3,4)`, `(2,5)`."
   ]
  },
  {
   "cell_type": "code",
   "execution_count": null,
   "metadata": {},
   "outputs": [],
   "source": [
    "# Written by Ovi, 2024-10-04\n",
    "# Optimized solution for counting good pairs in O(n) time using a dictionary\n",
    "\n",
    "class Solution:\n",
    "    def numIdenticalPairs(self, nums: List[int]) -> int:\n",
    "        freq = {}  # Dictionary to store the frequency of each number\n",
    "        count = 0  # To store the total number of good pairs\n",
    "        \n",
    "        # Iterate through each number in nums\n",
    "        for num in nums:\n",
    "            if num in freq:\n",
    "                count += freq[num]  # Add the count of previous occurrences of 'num' to 'count'\n",
    "                freq[num] += 1  # Increment the count of 'num' in the dictionary\n",
    "            else:\n",
    "                freq[num] = 1  # Initialize 'num' in the dictionary with count 1\n",
    "        \n",
    "        return count  # Return the total number of good pairs\n"
   ]
  },
  {
   "cell_type": "markdown",
   "metadata": {},
   "source": [
    "### Concepts Learned:\n",
    "- **Hash Map for Frequency Counting**: We used a hash map to efficiently count occurrences of numbers in the array, which allowed us to determine how many \"good pairs\" existed where `nums[i] == nums[j]` and `i < j`.\n",
    "- **Two-Pointer Technique**: Initially, the brute-force approach using two nested loops gave a time complexity of O(n²), but the hash map optimization reduced it to O(n).\n",
    "- **Time Complexity**: Optimized to O(n) using the hash map."
   ]
  },
  {
   "cell_type": "markdown",
   "metadata": {},
   "source": [
    "## [1. Two Sum](https://leetcode.com/problems/two-sum/description/?envType=problem-list-v2&envId=array)"
   ]
  },
  {
   "cell_type": "markdown",
   "metadata": {},
   "source": [
    "### Difficulty: Easy\n",
    "\n",
    "### Topics: Array, Hash Table\n",
    "\n",
    "### Summary:\n",
    "Given an array `nums` and an integer `target`, the task is to return the indices of two numbers in the array such that their sum equals the target. Each input is guaranteed to have exactly one solution, and the same element cannot be used twice. The answer can be returned in any order.\n",
    "\n",
    "### Example Input/Output:\n",
    "- **Input:** `nums = [2,7,11,15]`, `target = 9`\n",
    "- **Output:** `[0,1]`\n",
    "- **Explanation:** Since `nums[0] + nums[1] == 9`, we return `[0, 1]`.\n"
   ]
  },
  {
   "cell_type": "code",
   "execution_count": null,
   "metadata": {},
   "outputs": [],
   "source": [
    "# Written by Ovi, 2024-10-04\n",
    "# Optimal solution for the Two Sum problem using a hash map in O(n) time\n",
    "\n",
    "class Solution:\n",
    "    def twoSum(self, nums: List[int], target: int) -> List[int]:\n",
    "        seen = {}  # Dictionary to store the numbers we have seen and their indices\n",
    "        \n",
    "        for index, num in enumerate(nums):\n",
    "            complement = target - num  # Find the complement that adds up to target\n",
    "            \n",
    "            if complement in seen:  # If complement exists in seen, we found the pair\n",
    "                return [seen[complement], index]  # Return the indices of the pair\n",
    "            \n",
    "            seen[num] = index  # Add the current number and its index to the dictionary\n"
   ]
  },
  {
   "cell_type": "markdown",
   "metadata": {},
   "source": [
    "### Concepts Learned:\n",
    "- **Hash Map for Fast Lookups**: A hash map was used to store each number's complement (target - num). If the complement was found in the map, the pair of indices was returned.\n",
    "- **Efficient Solution**: This approach reduced the time complexity to O(n), as the hash map allows constant-time lookups.\n",
    "- **Time Complexity**: O(n), with a single traversal of the array.\n",
    "- **Space Complexity**: O(n), for storing the numbers and their indices in the hash map."
   ]
  },
  {
   "cell_type": "markdown",
   "metadata": {},
   "source": [
    "## [3289. The Two Sneaky Numbers of Digitville](https://leetcode.com/problems/the-two-sneaky-numbers-of-digitville/description/)\n"
   ]
  },
  {
   "cell_type": "markdown",
   "metadata": {},
   "source": [
    "### Difficulty: Easy\n",
    "\n",
    "### Topics: Array, Hash Table, Math\n",
    "\n",
    "### Summary:\n",
    "In the town of Digitville, the array `nums` contains integers from `0` to `n-1`, but two numbers appear twice. The task is to return the two sneaky numbers (in any order) that appear twice. The input is guaranteed to have exactly two repeated numbers, and the list length is `n+2`.\n",
    "\n",
    "### Example Input/Output:\n",
    "- **Input:** `nums = [0,1,1,0]`\n",
    "- **Output:** `[0,1]`\n",
    "- **Explanation:** The numbers 0 and 1 each appear twice in the array."
   ]
  },
  {
   "cell_type": "code",
   "execution_count": null,
   "metadata": {},
   "outputs": [],
   "source": [
    "# Written by Ovi, 2024-10-04\n",
    "# Optimal solution to find two sneaky numbers using a dictionary to count frequency\n",
    "\n",
    "class Solution:\n",
    "    def getSneakyNumbers(self, nums: List[int]) -> List[int]:\n",
    "        freq = {}  # Dictionary to store frequency of each number\n",
    "        result = []  # List to store the two sneaky numbers\n",
    "        \n",
    "        # Count the frequency of each number\n",
    "        for num in nums:\n",
    "            if num in freq:\n",
    "                freq[num] += 1\n",
    "            else:\n",
    "                freq[num] = 1\n",
    "        \n",
    "        # Collect the two numbers that appear twice\n",
    "        for num, count in freq.items():\n",
    "            if count == 2:\n",
    "                result.append(num)\n",
    "        \n",
    "        return result  # Return the list containing the two sneaky numbers\n"
   ]
  },
  {
   "cell_type": "markdown",
   "metadata": {},
   "source": [
    "### Concepts Learned:\n",
    "- **Hash Map for Frequency Counting**: A hash map was used to count how many times each number appeared in the array. Since exactly two numbers appeared twice, we were able to detect these \"sneaky numbers\" efficiently.\n",
    "- **Time Complexity**: O(n), since we traverse the array once to build the frequency map and once to extract the repeated numbers.\n",
    "- **Space Complexity**: O(n), using a hash map for frequency counting."
   ]
  },
  {
   "cell_type": "markdown",
   "metadata": {},
   "source": [
    "## [442. Find All Duplicates in an Array](https://leetcode.com/problems/find-all-duplicates-in-an-array/description/)"
   ]
  },
  {
   "cell_type": "markdown",
   "metadata": {},
   "source": [
    "### Difficulty: Medium\n",
    "\n",
    "### Topics: Array, Hash Table\n",
    "\n",
    "### Summary:\n",
    "Given an array `nums` of length `n` where each integer appears either once or twice, the task is to return an array of integers that appear twice. The solution must run in **O(n)** time and use **constant auxiliary space** (excluding the space used to store the output).\n",
    "\n",
    "### Example Input/Output:\n",
    "- **Input:** `nums = [4,3,2,7,8,2,3,1]`\n",
    "- **Output:** `[2,3]`\n",
    "- **Explanation:** The numbers 2 and 3 appear twice in the array."
   ]
  },
  {
   "cell_type": "code",
   "execution_count": null,
   "metadata": {},
   "outputs": [],
   "source": [
    "# Written by Ovi, 2024-10-04\n",
    "# Optimal solution for finding all duplicates in O(n) time with constant space\n",
    "\n",
    "class Solution:\n",
    "    def findDuplicates(self, nums: List[int]) -> List[int]:\n",
    "        result = []\n",
    "        \n",
    "        for i in range(len(nums)):\n",
    "            index = abs(nums[i]) - 1  # Find the index corresponding to the value nums[i]\n",
    "            \n",
    "            # If the number at index is already negative, it means we've seen it before\n",
    "            if nums[index] < 0:\n",
    "                result.append(index + 1)  # Add the duplicate number to the result list\n",
    "            else:\n",
    "                nums[index] = -nums[index]  # Mark the number by negating the value at its index\n",
    "        \n",
    "        return result  # Return the list of duplicates\n"
   ]
  },
  {
   "cell_type": "markdown",
   "metadata": {},
   "source": [
    "### Concepts Learned:\n",
    "- **Index Marking for In-Place Modification**: Instead of using extra space, we used the array itself to mark visited numbers by negating the values at their corresponding indices. If a value was already negative, it meant the number was a duplicate.\n",
    "- **In-Place Modification**: No extra space was used other than the output array, adhering to the problem's space constraint.\n",
    "- **Time Complexity**: O(n) for traversing the array once and marking duplicates.\n",
    "- **Space Complexity**: O(1) auxiliary space since we modify the array in place."
   ]
  },
  {
   "cell_type": "markdown",
   "metadata": {},
   "source": [
    "## [448. Find All Numbers Disappeared in an Array](https://leetcode.com/problems/find-all-numbers-disappeared-in-an-array/description/)\n"
   ]
  },
  {
   "cell_type": "markdown",
   "metadata": {},
   "source": [
    "### Difficulty: Easy\n",
    "\n",
    "### Topics: Array, Hash Table\n",
    "\n",
    "### Summary:\n",
    "Given an array `nums` of `n` integers where `nums[i]` is in the range `[1, n]`, the task is to return an array of all integers in the range `[1, n]` that do not appear in `nums`. The solution must run in **O(n)** time and use **no extra space** (except the space required for the output).\n",
    "\n",
    "### Example Input/Output:\n",
    "- **Input:** `nums = [4,3,2,7,8,2,3,1]`\n",
    "- **Output:** `[5,6]`\n",
    "- **Explanation:** The numbers 5 and 6 do not appear in the array."
   ]
  },
  {
   "cell_type": "code",
   "execution_count": null,
   "metadata": {},
   "outputs": [],
   "source": [
    "# Written by Ovi, 2024-10-04\n",
    "# Optimal solution for finding all missing numbers using index marking\n",
    "\n",
    "class Solution:\n",
    "    def findDisappearedNumbers(self, nums: List[int]) -> List[int]:\n",
    "        # Mark each number as visited by negating the value at the corresponding index\n",
    "        for num in nums:\n",
    "            index = abs(num) - 1  # Find the index corresponding to the value 'num'\n",
    "            nums[index] = -abs(nums[index])  # Mark the value at this index as negative\n",
    "        \n",
    "        # Collect all the indices that were never marked (still positive)\n",
    "        result = [i + 1 for i in range(len(nums)) if nums[i] > 0]\n",
    "        \n",
    "        return result  # Return the list of disappeared numbers\n"
   ]
  },
  {
   "cell_type": "markdown",
   "metadata": {},
   "source": [
    "### Concepts Learned:\n",
    "- **Index Marking for Missing Numbers**: Similar to marking duplicates, we negated values at corresponding indices. If a number's index remained positive, it meant that the number was missing from the array.\n",
    "- **Efficient Array Traversal**: This allowed us to find all missing numbers in **O(n)** time without using additional space.\n",
    "- **Space Complexity**: O(1) auxiliary space, since we only modified the array itself and used no extra data structures.\n",
    "- **Time Complexity**: O(n), as we only need one pass through the array for marking and one pass to find the missing numbers."
   ]
  },
  {
   "cell_type": "markdown",
   "metadata": {},
   "source": [
    "## Problem"
   ]
  },
  {
   "cell_type": "markdown",
   "metadata": {},
   "source": []
  },
  {
   "cell_type": "code",
   "execution_count": null,
   "metadata": {},
   "outputs": [],
   "source": []
  },
  {
   "cell_type": "markdown",
   "metadata": {},
   "source": []
  },
  {
   "cell_type": "markdown",
   "metadata": {},
   "source": []
  },
  {
   "cell_type": "markdown",
   "metadata": {},
   "source": []
  },
  {
   "cell_type": "code",
   "execution_count": null,
   "metadata": {},
   "outputs": [],
   "source": []
  },
  {
   "cell_type": "markdown",
   "metadata": {},
   "source": []
  },
  {
   "cell_type": "code",
   "execution_count": null,
   "metadata": {},
   "outputs": [],
   "source": []
  },
  {
   "cell_type": "markdown",
   "metadata": {},
   "source": []
  },
  {
   "cell_type": "code",
   "execution_count": null,
   "metadata": {},
   "outputs": [],
   "source": []
  }
 ],
 "metadata": {
  "kernelspec": {
   "display_name": "Python 3",
   "language": "python",
   "name": "python3"
  },
  "language_info": {
   "name": "python",
   "version": "3.11.8"
  }
 },
 "nbformat": 4,
 "nbformat_minor": 2
}
