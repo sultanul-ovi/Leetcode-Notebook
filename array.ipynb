{
 "cells": [
  {
   "cell_type": "markdown",
   "metadata": {},
   "source": [
    "## Problem Number: [1512. Number of Good Pairs](https://leetcode.com/problems/number-of-good-pairs/description/)\n",
    "\n",
    "### Difficulty: Easy\n",
    "\n",
    "### Topics: Array, Hash Table, Math, Counting\n",
    "\n",
    "### Summary:\n",
    "The task is to count how many pairs of indices `(i, j)` in the array `nums` satisfy the conditions that `nums[i] == nums[j]` and `i < j`. A pair is called \"good\" if both conditions are met.\n",
    "\n",
    "### Example Input/Output:\n",
    "- **Input:** `nums = [1,2,3,1,1,3]`\n",
    "- **Output:** `4`\n",
    "- **Explanation:** There are 4 good pairs: `(0,3)`, `(0,4)`, `(3,4)`, `(2,5)`.\n"
   ]
  },
  {
   "cell_type": "code",
   "execution_count": null,
   "metadata": {},
   "outputs": [],
   "source": [
    "# Written by Ovi, 2024-10-04\n",
    "# Optimized solution for counting good pairs in O(n) time using a dictionary\n",
    "\n",
    "class Solution:\n",
    "    def numIdenticalPairs(self, nums: List[int]) -> int:\n",
    "        freq = {}  # Dictionary to store the frequency of each number\n",
    "        count = 0  # To store the total number of good pairs\n",
    "        \n",
    "        # Iterate through each number in nums\n",
    "        for num in nums:\n",
    "            if num in freq:\n",
    "                count += freq[num]  # Add the count of previous occurrences of 'num' to 'count'\n",
    "                freq[num] += 1  # Increment the count of 'num' in the dictionary\n",
    "            else:\n",
    "                freq[num] = 1  # Initialize 'num' in the dictionary with count 1\n",
    "        \n",
    "        return count  # Return the total number of good pairs\n"
   ]
  },
  {
   "cell_type": "markdown",
   "metadata": {},
   "source": []
  },
  {
   "cell_type": "code",
   "execution_count": null,
   "metadata": {},
   "outputs": [],
   "source": []
  },
  {
   "cell_type": "markdown",
   "metadata": {},
   "source": []
  },
  {
   "cell_type": "code",
   "execution_count": null,
   "metadata": {},
   "outputs": [],
   "source": []
  }
 ],
 "metadata": {
  "kernelspec": {
   "display_name": "Python 3",
   "language": "python",
   "name": "python3"
  },
  "language_info": {
   "name": "python",
   "version": "3.11.8"
  }
 },
 "nbformat": 4,
 "nbformat_minor": 2
}
